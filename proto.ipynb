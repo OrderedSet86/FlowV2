{
 "cells": [
  {
   "cell_type": "code",
   "execution_count": 2,
   "metadata": {},
   "outputs": [],
   "source": [
    "import networkx as nx\n",
    "from pathlib import Path\n",
    "import yaml\n",
    "from dataclasses import dataclass"
   ]
  },
  {
   "cell_type": "code",
   "execution_count": 3,
   "metadata": {},
   "outputs": [],
   "source": [
    "@dataclass\n",
    "class MachineNode:\n",
    "    machine: str\n",
    "    eut: int\n",
    "    dur_ticks: int\n",
    "\n",
    "@dataclass\n",
    "class IngredientNode:\n",
    "    name: str\n",
    "    base_quant: int\n",
    "    # Only used by Ingredients directly connected to machines\n",
    "    base_direction: str\n",
    "    associated_machine_index: int\n",
    "\n",
    "@dataclass\n",
    "class EdgeData:\n",
    "    name: str\n",
    "    base_quant: int"
   ]
  },
  {
   "cell_type": "code",
   "execution_count": 4,
   "metadata": {},
   "outputs": [
    {
     "name": "stdout",
     "output_type": "stream",
     "text": [
      "[{'m': 'chemical reactor', 'tier': 'LV', 'I': {'hydrogen': 2000, 'sulfuric light fuel': 12000}, 'O': {'hydrogen sulfide': 1000, 'light fuel': 12000}, 'eut': 30, 'dur': 8, 'group': 'oil'}, {'m': 'distillery', 'tier': 'LV', 'I': {'oil': 25}, 'O': {'sulfuric light fuel': 25}, 'eut': 24, 'dur': 1, 'group': 'oil', 'number': 1}, {'m': 'electrolyzer', 'tier': 'LV', 'I': {'water': 3000}, 'O': {'hydrogen': 1000, 'oxygen': 500}, 'eut': 30, 'dur': 50, 'group': 'hydrogen'}]\n",
      "MultiDiGraph with 12 nodes and 9 edges\n",
      "{'object': MachineNode(machine='chemical reactor', eut=30, dur_ticks=8)}\n",
      "{'object': IngredientNode(name='hydrogen', base_quant=2000, base_direction='I', associated_machine_index=0)}\n",
      "{'object': IngredientNode(name='sulfuric light fuel', base_quant=12000, base_direction='I', associated_machine_index=0)}\n",
      "{'object': IngredientNode(name='hydrogen sulfide', base_quant=1000, base_direction='O', associated_machine_index=0)}\n",
      "{'object': IngredientNode(name='light fuel', base_quant=12000, base_direction='O', associated_machine_index=0)}\n",
      "{'object': MachineNode(machine='distillery', eut=24, dur_ticks=1)}\n",
      "{'object': IngredientNode(name='oil', base_quant=25, base_direction='I', associated_machine_index=5)}\n",
      "{'object': IngredientNode(name='sulfuric light fuel', base_quant=25, base_direction='O', associated_machine_index=5)}\n",
      "{'object': MachineNode(machine='electrolyzer', eut=30, dur_ticks=50)}\n",
      "{'object': IngredientNode(name='water', base_quant=3000, base_direction='I', associated_machine_index=8)}\n",
      "{'object': IngredientNode(name='hydrogen', base_quant=1000, base_direction='O', associated_machine_index=8)}\n",
      "{'object': IngredientNode(name='oxygen', base_quant=500, base_direction='O', associated_machine_index=8)}\n"
     ]
    }
   ],
   "source": [
    "flow_projects_path = Path('~/Dropbox/OrderedSetCode/game-optimization/minecraft/flow/projects').expanduser()\n",
    "light_fuel_path = flow_projects_path / 'power/oil/light_fuel.yaml'\n",
    "with open(light_fuel_path, 'r') as f:\n",
    "    conf = yaml.safe_load(f)\n",
    "print(conf)\n",
    "\n",
    "G = nx.MultiDiGraph()\n",
    "# MultiDiGraph = DiGraph, but self edges and parallel edges are allowed\n",
    "node_id = 0\n",
    "edge_id = 0\n",
    "for machine_dict in conf:\n",
    "    # Add machine nodes\n",
    "    machine_node_id = node_id\n",
    "    G.add_node(node_id, object=MachineNode(machine_dict['m'], machine_dict['eut'], machine_dict['dur']))\n",
    "    node_id += 1\n",
    "\n",
    "    # Add ingredient nodes\n",
    "    for direction in ['I', 'O']:\n",
    "        for ingredient_name, ingredient_quantity in machine_dict[direction].items():\n",
    "            G.add_node(node_id, object=IngredientNode(ingredient_name, ingredient_quantity, direction, machine_node_id))\n",
    "            if direction == 'I':\n",
    "                G.add_edge(machine_node_id, node_id, object=EdgeData(ingredient_name, ingredient_quantity))\n",
    "            elif direction == 'O':\n",
    "                G.add_edge(node_id, machine_node_id, object=EdgeData(ingredient_name, ingredient_quantity))\n",
    "            node_id += 1\n",
    "            edge_id += 1\n",
    "\n",
    "print(G)\n",
    "for x in range(G.number_of_nodes()):\n",
    "    print(G.nodes[x])"
   ]
  },
  {
   "cell_type": "code",
   "execution_count": 5,
   "metadata": {},
   "outputs": [
    {
     "name": "stdout",
     "output_type": "stream",
     "text": [
      "0 {'object': MachineNode(machine='chemical reactor', eut=30, dur_ticks=8)}\n",
      "1 {'object': IngredientNode(name='hydrogen', base_quant=2000, base_direction='I', associated_machine_index=0)}\n",
      "2 {'object': IngredientNode(name='sulfuric light fuel', base_quant=12000, base_direction='I', associated_machine_index=0)}\n",
      "3 {'object': IngredientNode(name='hydrogen sulfide', base_quant=1000, base_direction='O', associated_machine_index=0)}\n",
      "4 {'object': IngredientNode(name='light fuel', base_quant=12000, base_direction='O', associated_machine_index=0)}\n",
      "5 {'object': MachineNode(machine='distillery', eut=24, dur_ticks=1)}\n",
      "6 {'object': IngredientNode(name='oil', base_quant=25, base_direction='I', associated_machine_index=5)}\n",
      "7 {'object': IngredientNode(name='sulfuric light fuel', base_quant=25, base_direction='O', associated_machine_index=5)}\n",
      "8 {'object': MachineNode(machine='electrolyzer', eut=30, dur_ticks=50)}\n",
      "9 {'object': IngredientNode(name='water', base_quant=3000, base_direction='I', associated_machine_index=8)}\n",
      "10 {'object': IngredientNode(name='hydrogen', base_quant=1000, base_direction='O', associated_machine_index=8)}\n",
      "11 {'object': IngredientNode(name='oxygen', base_quant=500, base_direction='O', associated_machine_index=8)}\n",
      "{'I': defaultdict(<class 'list'>, {'hydrogen': [1], 'sulfuric light fuel': [2], 'oil': [6], 'water': [9]}), 'O': defaultdict(<class 'list'>, {'hydrogen sulfide': [3], 'light fuel': [4], 'sulfuric light fuel': [7], 'hydrogen': [10], 'oxygen': [11]})}\n",
      "MultiDiGraph with 12 nodes and 9 edges\n"
     ]
    }
   ],
   "source": [
    "from collections import defaultdict\n",
    "\n",
    "def produceConnectedGraphFromDisjoint(G: nx.MultiDiGraph) -> nx.MultiDiGraph:\n",
    "    ingredient_by_type_to_node_id = {'I': defaultdict(list), 'O': defaultdict(list)}\n",
    "\n",
    "    for idx, node in G.nodes.items():\n",
    "        print(idx, node)\n",
    "        if isinstance(node['object'], IngredientNode):\n",
    "            ingredient_by_type_to_node_id[node['object'].base_direction][node['object'].name].append(idx)\n",
    "\n",
    "    print(ingredient_by_type_to_node_id)\n",
    "\n",
    "    return G\n",
    "\n",
    "cg = produceConnectedGraphFromDisjoint(G)\n",
    "print(cg)"
   ]
  },
  {
   "cell_type": "code",
   "execution_count": 42,
   "metadata": {},
   "outputs": [],
   "source": [
    "ag = nx.nx_agraph.to_agraph(G)\n",
    "ag.draw(\"proto.pdf\", prog='dot')"
   ]
  },
  {
   "cell_type": "code",
   "execution_count": null,
   "metadata": {},
   "outputs": [],
   "source": []
  }
 ],
 "metadata": {
  "kernelspec": {
   "display_name": "flowv2-SAlfQfT5",
   "language": "python",
   "name": "python3"
  },
  "language_info": {
   "codemirror_mode": {
    "name": "ipython",
    "version": 3
   },
   "file_extension": ".py",
   "mimetype": "text/x-python",
   "name": "python",
   "nbconvert_exporter": "python",
   "pygments_lexer": "ipython3",
   "version": "3.11.3"
  },
  "orig_nbformat": 4
 },
 "nbformat": 4,
 "nbformat_minor": 2
}
