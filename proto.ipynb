{
 "cells": [
  {
   "cell_type": "code",
   "execution_count": 34,
   "metadata": {},
   "outputs": [],
   "source": [
    "import networkx as nx\n",
    "from pathlib import Path\n",
    "import yaml\n",
    "from dataclasses import dataclass"
   ]
  },
  {
   "cell_type": "code",
   "execution_count": 47,
   "metadata": {},
   "outputs": [],
   "source": [
    "@dataclass\n",
    "class MachineNode:\n",
    "    machine: str\n",
    "    eut: int\n",
    "    dur_ticks: int\n",
    "\n",
    "@dataclass\n",
    "class IngredientNode:\n",
    "    name: str\n",
    "    quant: str\n",
    "\n",
    "@dataclass\n",
    "class EdgeData:\n",
    "    name: str\n",
    "    quant: str"
   ]
  },
  {
   "cell_type": "code",
   "execution_count": 48,
   "metadata": {},
   "outputs": [
    {
     "name": "stdout",
     "output_type": "stream",
     "text": [
      "[{'m': 'chemical reactor', 'tier': 'LV', 'I': {'hydrogen': 2000, 'sulfuric light fuel': 12000}, 'O': {'hydrogen sulfide': 1000, 'light fuel': 12000}, 'eut': 30, 'dur': 8, 'group': 'oil'}, {'m': 'distillery', 'tier': 'LV', 'I': {'oil': 25}, 'O': {'sulfuric light fuel': 25}, 'eut': 24, 'dur': 1, 'group': 'oil', 'number': 1}, {'m': 'electrolyzer', 'tier': 'LV', 'I': {'water': 3000}, 'O': {'hydrogen': 1000, 'oxygen': 500}, 'eut': 30, 'dur': 50, 'group': 'hydrogen'}]\n",
      "0 I\n",
      "0 O\n",
      "5 I\n",
      "5 O\n",
      "8 I\n",
      "8 O\n",
      "MultiDiGraph with 12 nodes and 9 edges\n",
      "{'object': MachineNode(machine='chemical reactor', eut=30, dur_ticks=8)}\n",
      "{'object': IngredientNode(name='hydrogen', quant=2000)}\n",
      "{'object': IngredientNode(name='sulfuric light fuel', quant=12000)}\n",
      "{'object': IngredientNode(name='hydrogen sulfide', quant=1000)}\n",
      "{'object': IngredientNode(name='light fuel', quant=12000)}\n",
      "{'object': MachineNode(machine='distillery', eut=24, dur_ticks=1)}\n",
      "{'object': IngredientNode(name='oil', quant=25)}\n",
      "{'object': IngredientNode(name='sulfuric light fuel', quant=25)}\n",
      "{'object': MachineNode(machine='electrolyzer', eut=30, dur_ticks=50)}\n",
      "{'object': IngredientNode(name='water', quant=3000)}\n",
      "{'object': IngredientNode(name='hydrogen', quant=1000)}\n",
      "{'object': IngredientNode(name='oxygen', quant=500)}\n"
     ]
    }
   ],
   "source": [
    "flow_projects_path = Path('~/Dropbox/OrderedSetCode/game-optimization/minecraft/flow/projects').expanduser()\n",
    "light_fuel_path = flow_projects_path / 'power/oil/light_fuel.yaml'\n",
    "with open(light_fuel_path, 'r') as f:\n",
    "    conf = yaml.safe_load(f)\n",
    "print(conf)\n",
    "\n",
    "G = nx.MultiDiGraph()\n",
    "node_id = 0\n",
    "edge_id = 0\n",
    "for machine_dict in conf:\n",
    "    # Add machine nodes\n",
    "    machine_node_id = node_id\n",
    "    G.add_node(node_id, object=MachineNode(machine_dict['m'], machine_dict['eut'], machine_dict['dur']))\n",
    "    node_id += 1\n",
    "\n",
    "    # Add ingredient nodes\n",
    "    for direction in ['I', 'O']:\n",
    "        print(machine_node_id, direction)\n",
    "        for ingredient_name, ingredient_quantity in machine_dict[direction].items():\n",
    "            G.add_node(node_id, object=IngredientNode(ingredient_name, ingredient_quantity))\n",
    "            if direction == 'I':\n",
    "                G.add_edge(machine_node_id, node_id, object=EdgeData(ingredient_name, ingredient_quantity))\n",
    "            elif direction == 'O':\n",
    "                G.add_edge(node_id, machine_node_id, object=EdgeData(ingredient_name, ingredient_quantity))\n",
    "            node_id += 1\n",
    "            edge_id += 1\n",
    "\n",
    "print(G)\n",
    "for x in range(G.number_of_nodes()):\n",
    "    print(G.nodes[x])"
   ]
  },
  {
   "cell_type": "code",
   "execution_count": 43,
   "metadata": {},
   "outputs": [
    {
     "data": {
      "image/png": "[encoded data removed]",
      "text/plain": [
       "<Figure size 640x480 with 1 Axes>"
      ]
     },
     "metadata": {},
     "output_type": "display_data"
    }
   ],
   "source": [
    "nx.draw(G)"
   ]
  },
  {
   "cell_type": "code",
   "execution_count": 42,
   "metadata": {},
   "outputs": [],
   "source": [
    "ag = nx.nx_agraph.to_agraph(G)\n",
    "ag.draw(\"proto.pdf\", prog='dot')"
   ]
  },
  {
   "cell_type": "code",
   "execution_count": null,
   "metadata": {},
   "outputs": [],
   "source": []
  }
 ],
 "metadata": {
  "kernelspec": {
   "display_name": "flowv2-SAlfQfT5",
   "language": "python",
   "name": "python3"
  },
  "language_info": {
   "codemirror_mode": {
    "name": "ipython",
    "version": 3
   },
   "file_extension": ".py",
   "mimetype": "text/x-python",
   "name": "python",
   "nbconvert_exporter": "python",
   "pygments_lexer": "ipython3",
   "version": "3.11.3"
  },
  "orig_nbformat": 4
 },
 "nbformat": 4,
 "nbformat_minor": 2
}
